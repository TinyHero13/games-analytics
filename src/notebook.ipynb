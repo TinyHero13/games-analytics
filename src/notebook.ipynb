{
 "cells": [
  {
   "cell_type": "code",
   "execution_count": null,
   "metadata": {},
   "outputs": [],
   "source": [
    "from games_analytics.twitch_api import TwitchDataSource\n",
    "from games_analytics.twitch_tracker_api import TwitchTrackerDataSource\n",
    "from pyspark.sql import SparkSession\n",
    "from pyspark.sql.functions import current_timestamp\n",
    "\n",
    "spark = SparkSession.builder.appName(\"TwitchDataSourceApp\").getOrCreate()\n",
    "\n",
    "client_id = dbutils.secrets.get(\"twitch\", \"client_id\")\n",
    "client_secret = dbutils.secrets.get(\"twitch\", \"client_secret\")\n",
    "\n",
    "spark.dataSource.register(TwitchDataSource)\n",
    "spark.dataSource.register(TwitchTrackerDataSource)\n",
    "\n",
    "twitch_df  = (\n",
    "    spark.read\n",
    "    .format(\"twitch_stream\")\n",
    "    .option(\"client_id\", client_id)\n",
    "    .option(\"client_secret\", client_secret)\n",
    "    .load()\n",
    ")\n",
    "\n",
    "game_ids = [row[\"id\"] for row in twitch_df.select(\"id\").distinct().collect()]\n",
    "game_ids_str = \",\".join(game_ids)\n",
    "\n",
    "twitch_tracker_df = (spark.read\n",
    "    .format(\"twitch_tracker\")\n",
    "    .option(\"game_ids\", game_ids_str)\n",
    "    .load())\n",
    "\n",
    "games_data_df = (\n",
    "    twitch_df.join(twitch_tracker_df, twitch_df.id == twitch_tracker_df.id, \"left\")\n",
    "    .select(\n",
    "        current_timestamp().alias(\"ingestion_timestamp\"),\n",
    "        twitch_df.id,\n",
    "        twitch_df.name,\n",
    "        twitch_df.box_art_url,\n",
    "        twitch_df.igdb_id,\n",
    "        twitch_tracker_df.avg_viewers,\n",
    "        twitch_tracker_df.avg_channels,\n",
    "        twitch_tracker_df.rank,\n",
    "        twitch_tracker_df.hours_watched\n",
    "    )\n",
    ")\n",
    "\n",
    "games_data_df.write.format(\"delta\").mode(\"overwrite\").saveAsTable(\"games_analytics.dev.twitch_games_data\")"
   ]
  }
 ],
 "metadata": {
  "kernelspec": {
   "display_name": "Python 3",
   "language": "python",
   "name": "python3"
  },
  "language_info": {
   "name": "python",
   "version": "3.12.3"
  }
 },
 "nbformat": 4,
 "nbformat_minor": 0
}
